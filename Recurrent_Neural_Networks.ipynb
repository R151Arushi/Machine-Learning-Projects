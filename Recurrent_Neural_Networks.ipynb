{
  "nbformat": 4,
  "nbformat_minor": 0,
  "metadata": {
    "colab": {
      "provenance": []
    },
    "kernelspec": {
      "name": "python3",
      "display_name": "Python 3"
    }
  },
  "cells": [
    {
      "cell_type": "markdown",
      "metadata": {
        "id": "9kTKaVK47knP"
      },
      "source": [
        "# Lab 8 Neural Language Model\n",
        "A language model predicts the next word in the sequence based on the specific words that have come before it in the sequence.\n",
        "\n",
        "It is also possible to develop language models at the character level using neural networks. The benefit of character-based language models is their small vocabulary and flexibility in handling any words, punctuation, and other document structure. This comes at the cost of requiring larger models that are slower to train.\n",
        "\n",
        "Nevertheless, in the field of neural language models, character-based models offer a lot of promise for a general, flexible and powerful approach to language modeling."
      ]
    },
    {
      "cell_type": "markdown",
      "metadata": {
        "id": "QK2Ew8_C7knQ"
      },
      "source": [
        "As a prerequisite for the lab, make sure to pip install:\n",
        "- keras\n",
        "- tensorflow\n",
        "- h5py"
      ]
    },
    {
      "cell_type": "markdown",
      "metadata": {
        "id": "xIs5eFI97knR"
      },
      "source": [
        "# Source Text Creation"
      ]
    },
    {
      "cell_type": "markdown",
      "metadata": {
        "id": "zQku8-L97knT"
      },
      "source": [
        "To start out with, we'll be using a simple nursery rhyme. It's quite short so we can actually train something on your CPU and see relatively interesting results. Please copy and paste the following text in a text file and save it as \"rhyme.txt\". Place this in the same directory as this jupyter notebook:"
      ]
    },
    {
      "cell_type": "code",
      "metadata": {
        "id": "6wl1ZLGG7wii",
        "colab": {
          "base_uri": "https://localhost:8080/"
        },
        "outputId": "1108eefc-2369-4c5f-87bd-acfa9837c6c9"
      },
      "source": [
        "!pip install tensorflow\n",
        "!pip install keras\n",
        "!pip install h5py"
      ],
      "execution_count": 1,
      "outputs": [
        {
          "output_type": "stream",
          "name": "stdout",
          "text": [
            "Looking in indexes: https://pypi.org/simple, https://us-python.pkg.dev/colab-wheels/public/simple/\n",
            "Requirement already satisfied: tensorflow in /usr/local/lib/python3.7/dist-packages (2.9.2)\n",
            "Requirement already satisfied: keras-preprocessing>=1.1.1 in /usr/local/lib/python3.7/dist-packages (from tensorflow) (1.1.2)\n",
            "Requirement already satisfied: libclang>=13.0.0 in /usr/local/lib/python3.7/dist-packages (from tensorflow) (14.0.6)\n",
            "Requirement already satisfied: h5py>=2.9.0 in /usr/local/lib/python3.7/dist-packages (from tensorflow) (3.1.0)\n",
            "Requirement already satisfied: grpcio<2.0,>=1.24.3 in /usr/local/lib/python3.7/dist-packages (from tensorflow) (1.50.0)\n",
            "Requirement already satisfied: packaging in /usr/local/lib/python3.7/dist-packages (from tensorflow) (21.3)\n",
            "Requirement already satisfied: numpy>=1.20 in /usr/local/lib/python3.7/dist-packages (from tensorflow) (1.21.6)\n",
            "Requirement already satisfied: opt-einsum>=2.3.2 in /usr/local/lib/python3.7/dist-packages (from tensorflow) (3.3.0)\n",
            "Requirement already satisfied: astunparse>=1.6.0 in /usr/local/lib/python3.7/dist-packages (from tensorflow) (1.6.3)\n",
            "Requirement already satisfied: wrapt>=1.11.0 in /usr/local/lib/python3.7/dist-packages (from tensorflow) (1.14.1)\n",
            "Requirement already satisfied: tensorflow-estimator<2.10.0,>=2.9.0rc0 in /usr/local/lib/python3.7/dist-packages (from tensorflow) (2.9.0)\n",
            "Requirement already satisfied: keras<2.10.0,>=2.9.0rc0 in /usr/local/lib/python3.7/dist-packages (from tensorflow) (2.9.0)\n",
            "Requirement already satisfied: setuptools in /usr/local/lib/python3.7/dist-packages (from tensorflow) (57.4.0)\n",
            "Requirement already satisfied: absl-py>=1.0.0 in /usr/local/lib/python3.7/dist-packages (from tensorflow) (1.3.0)\n",
            "Requirement already satisfied: gast<=0.4.0,>=0.2.1 in /usr/local/lib/python3.7/dist-packages (from tensorflow) (0.4.0)\n",
            "Requirement already satisfied: flatbuffers<2,>=1.12 in /usr/local/lib/python3.7/dist-packages (from tensorflow) (1.12)\n",
            "Requirement already satisfied: six>=1.12.0 in /usr/local/lib/python3.7/dist-packages (from tensorflow) (1.15.0)\n",
            "Requirement already satisfied: google-pasta>=0.1.1 in /usr/local/lib/python3.7/dist-packages (from tensorflow) (0.2.0)\n",
            "Requirement already satisfied: tensorflow-io-gcs-filesystem>=0.23.1 in /usr/local/lib/python3.7/dist-packages (from tensorflow) (0.27.0)\n",
            "Requirement already satisfied: termcolor>=1.1.0 in /usr/local/lib/python3.7/dist-packages (from tensorflow) (2.1.0)\n",
            "Requirement already satisfied: tensorboard<2.10,>=2.9 in /usr/local/lib/python3.7/dist-packages (from tensorflow) (2.9.1)\n",
            "Requirement already satisfied: protobuf<3.20,>=3.9.2 in /usr/local/lib/python3.7/dist-packages (from tensorflow) (3.19.6)\n",
            "Requirement already satisfied: typing-extensions>=3.6.6 in /usr/local/lib/python3.7/dist-packages (from tensorflow) (4.1.1)\n",
            "Requirement already satisfied: wheel<1.0,>=0.23.0 in /usr/local/lib/python3.7/dist-packages (from astunparse>=1.6.0->tensorflow) (0.38.3)\n",
            "Requirement already satisfied: cached-property in /usr/local/lib/python3.7/dist-packages (from h5py>=2.9.0->tensorflow) (1.5.2)\n",
            "Requirement already satisfied: tensorboard-data-server<0.7.0,>=0.6.0 in /usr/local/lib/python3.7/dist-packages (from tensorboard<2.10,>=2.9->tensorflow) (0.6.1)\n",
            "Requirement already satisfied: tensorboard-plugin-wit>=1.6.0 in /usr/local/lib/python3.7/dist-packages (from tensorboard<2.10,>=2.9->tensorflow) (1.8.1)\n",
            "Requirement already satisfied: werkzeug>=1.0.1 in /usr/local/lib/python3.7/dist-packages (from tensorboard<2.10,>=2.9->tensorflow) (1.0.1)\n",
            "Requirement already satisfied: google-auth<3,>=1.6.3 in /usr/local/lib/python3.7/dist-packages (from tensorboard<2.10,>=2.9->tensorflow) (2.14.1)\n",
            "Requirement already satisfied: markdown>=2.6.8 in /usr/local/lib/python3.7/dist-packages (from tensorboard<2.10,>=2.9->tensorflow) (3.4.1)\n",
            "Requirement already satisfied: google-auth-oauthlib<0.5,>=0.4.1 in /usr/local/lib/python3.7/dist-packages (from tensorboard<2.10,>=2.9->tensorflow) (0.4.6)\n",
            "Requirement already satisfied: requests<3,>=2.21.0 in /usr/local/lib/python3.7/dist-packages (from tensorboard<2.10,>=2.9->tensorflow) (2.23.0)\n",
            "Requirement already satisfied: pyasn1-modules>=0.2.1 in /usr/local/lib/python3.7/dist-packages (from google-auth<3,>=1.6.3->tensorboard<2.10,>=2.9->tensorflow) (0.2.8)\n",
            "Requirement already satisfied: cachetools<6.0,>=2.0.0 in /usr/local/lib/python3.7/dist-packages (from google-auth<3,>=1.6.3->tensorboard<2.10,>=2.9->tensorflow) (5.2.0)\n",
            "Requirement already satisfied: rsa<5,>=3.1.4 in /usr/local/lib/python3.7/dist-packages (from google-auth<3,>=1.6.3->tensorboard<2.10,>=2.9->tensorflow) (4.9)\n",
            "Requirement already satisfied: requests-oauthlib>=0.7.0 in /usr/local/lib/python3.7/dist-packages (from google-auth-oauthlib<0.5,>=0.4.1->tensorboard<2.10,>=2.9->tensorflow) (1.3.1)\n",
            "Requirement already satisfied: importlib-metadata>=4.4 in /usr/local/lib/python3.7/dist-packages (from markdown>=2.6.8->tensorboard<2.10,>=2.9->tensorflow) (4.13.0)\n",
            "Requirement already satisfied: zipp>=0.5 in /usr/local/lib/python3.7/dist-packages (from importlib-metadata>=4.4->markdown>=2.6.8->tensorboard<2.10,>=2.9->tensorflow) (3.10.0)\n",
            "Requirement already satisfied: pyasn1<0.5.0,>=0.4.6 in /usr/local/lib/python3.7/dist-packages (from pyasn1-modules>=0.2.1->google-auth<3,>=1.6.3->tensorboard<2.10,>=2.9->tensorflow) (0.4.8)\n",
            "Requirement already satisfied: idna<3,>=2.5 in /usr/local/lib/python3.7/dist-packages (from requests<3,>=2.21.0->tensorboard<2.10,>=2.9->tensorflow) (2.10)\n",
            "Requirement already satisfied: certifi>=2017.4.17 in /usr/local/lib/python3.7/dist-packages (from requests<3,>=2.21.0->tensorboard<2.10,>=2.9->tensorflow) (2022.9.24)\n",
            "Requirement already satisfied: chardet<4,>=3.0.2 in /usr/local/lib/python3.7/dist-packages (from requests<3,>=2.21.0->tensorboard<2.10,>=2.9->tensorflow) (3.0.4)\n",
            "Requirement already satisfied: urllib3!=1.25.0,!=1.25.1,<1.26,>=1.21.1 in /usr/local/lib/python3.7/dist-packages (from requests<3,>=2.21.0->tensorboard<2.10,>=2.9->tensorflow) (1.24.3)\n",
            "Requirement already satisfied: oauthlib>=3.0.0 in /usr/local/lib/python3.7/dist-packages (from requests-oauthlib>=0.7.0->google-auth-oauthlib<0.5,>=0.4.1->tensorboard<2.10,>=2.9->tensorflow) (3.2.2)\n",
            "Requirement already satisfied: pyparsing!=3.0.5,>=2.0.2 in /usr/local/lib/python3.7/dist-packages (from packaging->tensorflow) (3.0.9)\n",
            "Looking in indexes: https://pypi.org/simple, https://us-python.pkg.dev/colab-wheels/public/simple/\n",
            "Requirement already satisfied: keras in /usr/local/lib/python3.7/dist-packages (2.9.0)\n",
            "Looking in indexes: https://pypi.org/simple, https://us-python.pkg.dev/colab-wheels/public/simple/\n",
            "Requirement already satisfied: h5py in /usr/local/lib/python3.7/dist-packages (3.1.0)\n",
            "Requirement already satisfied: cached-property in /usr/local/lib/python3.7/dist-packages (from h5py) (1.5.2)\n",
            "Requirement already satisfied: numpy>=1.14.5 in /usr/local/lib/python3.7/dist-packages (from h5py) (1.21.6)\n"
          ]
        }
      ]
    },
    {
      "cell_type": "code",
      "metadata": {
        "id": "iqQdG7M68HVt"
      },
      "source": [
        "s='Sing a song of sixpence,\\\n",
        "A pocket full of rye.\\\n",
        "Four and twenty blackbirds,\\\n",
        "Baked in a pie.\\\n",
        "When the pie was opened\\\n",
        "The birds began to sing;\\\n",
        "Wasn’t that a dainty dish,\\\n",
        "To set before the king.\\\n",
        "The king was in his counting house,\\\n",
        "Counting out his money;\\\n",
        "The queen was in the parlour,\\\n",
        "Eating bread and honey.\\\n",
        "The maid was in the garden,\\\n",
        "Hanging out the clothes,\\\n",
        "When down came a blackbird\\\n",
        "And pecked off her nose.'\n",
        "\n",
        "with open('rhymes.txt','w') as f:\n",
        "  f.write(s)"
      ],
      "execution_count": 2,
      "outputs": []
    },
    {
      "cell_type": "markdown",
      "metadata": {
        "id": "Gq7wq3fF7knV"
      },
      "source": [
        "    Sing a song of sixpence,\n",
        "    A pocket full of rye.\n",
        "    Four and twenty blackbirds,\n",
        "    Baked in a pie.\n",
        "\n",
        "    When the pie was opened\n",
        "    The birds began to sing;\n",
        "    Wasn’t that a dainty dish,\n",
        "    To set before the king.\n",
        "\n",
        "    The king was in his counting house,\n",
        "    Counting out his money;\n",
        "    The queen was in the parlour,\n",
        "    Eating bread and honey.\n",
        "\n",
        "    The maid was in the garden,\n",
        "    Hanging out the clothes,\n",
        "    When down came a blackbird\n",
        "    And pecked off her nose."
      ]
    },
    {
      "cell_type": "markdown",
      "metadata": {
        "id": "tdOJmdjU7knW"
      },
      "source": [
        "# Sequence Generation\n",
        "\n",
        "A language model must be trained on the text, and in the case of a character-based language model, the input and output sequences must be characters.\n",
        "\n",
        "The number of characters used as input will also define the number of characters that will need to be provided to the model in order to elicit the first predicted character.\n",
        "\n",
        "After the first character has been generated, it can be appended to the input sequence and used as input for the model to generate the next character.\n",
        "\n",
        "Longer sequences offer more context for the model to learn what character to output next but take longer to train and impose more burden on seeding the model when generating text.\n",
        "\n",
        "We will use an arbitrary length of 10 characters for this model.\n",
        "\n",
        "There is not a lot of text, and 10 characters is a few words.\n",
        "\n",
        "We can now transform the raw text into a form that our model can learn; specifically, input and output sequences of characters."
      ]
    },
    {
      "cell_type": "code",
      "metadata": {
        "id": "JjJfvv1U7knY"
      },
      "source": [
        "#load doc into memory\n",
        "def load_doc(filename):\n",
        "    # open the file as read only\n",
        "    file = open(filename, 'r')\n",
        "    # read all text\n",
        "    text = file.read()\n",
        "    # close the file\n",
        "    file.close()\n",
        "    return text\n",
        "# save tokens to file, one dialog per line\n",
        "def save_doc(lines, filename):\n",
        "    data = '\\n'.join(lines)\n",
        "    file = open(filename, 'w')\n",
        "    file.write(data)\n",
        "    file.close()"
      ],
      "execution_count": 3,
      "outputs": []
    },
    {
      "cell_type": "code",
      "metadata": {
        "id": "F6GbMmMs7knb",
        "colab": {
          "base_uri": "https://localhost:8080/"
        },
        "outputId": "bf2fd00d-789b-4192-9e75-30e7fd94f70b"
      },
      "source": [
        "#THIS\n",
        "#load text\n",
        "raw_text = load_doc('rhymes.txt')\n",
        "print(raw_text)\n",
        "\n",
        "# clean\n",
        "tokens = raw_text.split()\n",
        "raw_text = ' '.join(tokens)\n",
        "\n",
        "# organize into sequences of characters\n",
        "length = 10\n",
        "sequences = list()\n",
        "for i in range(length, len(raw_text)):\n",
        "    # select sequence of tokens\n",
        "    seq = raw_text[i-length:i+1]\n",
        "    # store\n",
        "    sequences.append(seq)\n",
        "print('Total Sequences: %d' % len(sequences))"
      ],
      "execution_count": 4,
      "outputs": [
        {
          "output_type": "stream",
          "name": "stdout",
          "text": [
            "Sing a song of sixpence,A pocket full of rye.Four and twenty blackbirds,Baked in a pie.When the pie was openedThe birds began to sing;Wasn’t that a dainty dish,To set before the king.The king was in his counting house,Counting out his money;The queen was in the parlour,Eating bread and honey.The maid was in the garden,Hanging out the clothes,When down came a blackbirdAnd pecked off her nose.\n",
            "Total Sequences: 384\n"
          ]
        }
      ]
    },
    {
      "cell_type": "code",
      "metadata": {
        "id": "iBepEyDn7kne"
      },
      "source": [
        "#THIS \n",
        "# save sequences to file\n",
        "out_filename = 'char_sequences.txt'\n",
        "save_doc(sequences, out_filename)"
      ],
      "execution_count": 5,
      "outputs": []
    },
    {
      "cell_type": "markdown",
      "metadata": {
        "id": "ohjVbv1l7kng"
      },
      "source": [
        "# Train a Model\n",
        "In this section, we will develop a neural language model for the prepared sequence data.\n",
        "\n",
        "The model will read encoded characters and predict the next character in the sequence. A Long Short-Term Memory recurrent neural network hidden layer will be used to learn the context from the input sequence in order to make the predictions."
      ]
    },
    {
      "cell_type": "code",
      "metadata": {
        "id": "7HBgtQvY7knh"
      },
      "source": [
        "from numpy import array\n",
        "from pickle import dump\n",
        "from tensorflow.keras.utils import to_categorical\n",
        "from keras.models import Sequential\n",
        "from keras.layers import Dense\n",
        "from keras.layers import LSTM\n",
        "\n",
        "# load doc into memory\n",
        "def load_doc(filename):\n",
        "    # open the file as read only\n",
        "    file = open(filename, 'r')\n",
        "    # read all text\n",
        "    text = file.read()\n",
        "    # close the file\n",
        "    file.close()\n",
        "    return text"
      ],
      "execution_count": 6,
      "outputs": []
    },
    {
      "cell_type": "code",
      "metadata": {
        "id": "r8ruXoPS7knl"
      },
      "source": [
        "# load\n",
        "#THIS \n",
        "in_filename = 'char_sequences.txt'\n",
        "raw_text = load_doc(in_filename)\n",
        "lines = raw_text.split('\\n')"
      ],
      "execution_count": 7,
      "outputs": []
    },
    {
      "cell_type": "markdown",
      "metadata": {
        "id": "uTnvoY-f7kno"
      },
      "source": [
        "The sequences of characters must be encoded as integers.This means that each unique character will be assigned a specific integer value and each sequence of characters will be encoded as a sequence of integers. We can create the mapping given a sorted set of unique characters in the raw input data. The mapping is a dictionary of character values to integer values.\n",
        "\n",
        "Next, we can process each sequence of characters one at a time and use the dictionary mapping to look up the integer value for each character. The result is a list of integer lists.\n",
        "\n",
        "We need to know the size of the vocabulary later. We can retrieve this as the size of the dictionary mapping."
      ]
    },
    {
      "cell_type": "code",
      "metadata": {
        "id": "kMndzt5v7kno",
        "colab": {
          "base_uri": "https://localhost:8080/"
        },
        "outputId": "51b40155-72b5-409f-9a74-b8753d4e2bdd"
      },
      "source": [
        "#THIS\n",
        "# integer encode sequences of characters\n",
        "chars = sorted(list(set(raw_text)))\n",
        "mapping = dict((c, i) for i, c in enumerate(chars))\n",
        "sequences = list()\n",
        "for line in lines:\n",
        "    # integer encode line\n",
        "    encoded_seq = [mapping[char] for char in line]\n",
        "    # store\n",
        "    sequences.append(encoded_seq)\n",
        "\n",
        "# vocabulary size\n",
        "vocab_size = len(mapping)\n",
        "print('Vocabulary Size: %d' % vocab_size)\n",
        "\n",
        "# separate into input and output\n",
        "sequences = array(sequences)\n",
        "X, y = sequences[:,:-1], sequences[:,-1]\n",
        "sequences = [to_categorical(x, num_classes=vocab_size) for x in X]\n",
        "X = array(sequences)\n",
        "y = to_categorical(y, num_classes=vocab_size)"
      ],
      "execution_count": 8,
      "outputs": [
        {
          "output_type": "stream",
          "name": "stdout",
          "text": [
            "Vocabulary Size: 38\n"
          ]
        }
      ]
    },
    {
      "cell_type": "markdown",
      "metadata": {
        "id": "0qyCICfV7knx"
      },
      "source": [
        "The model is defined with an input layer that takes sequences that have 10 time steps and 38 features for the one hot encoded input sequences. Rather than specify these numbers, we use the second and third dimensions on the X input data. This is so that if we change the length of the sequences or size of the vocabulary, we do not need to change the model definition.\n",
        "\n",
        "The model has a single LSTM hidden layer with 75 memory cells. The model has a fully connected output layer that outputs one vector with a probability distribution across all characters in the vocabulary. A softmax activation function is used on the output layer to ensure the output has the properties of a probability distribution.\n",
        "\n",
        "The model is learning a multi-class classification problem, therefore we use the categorical log loss intended for this type of problem. The efficient Adam implementation of gradient descent is used to optimize the model and accuracy is reported at the end of each batch update. The model is fit for 50 training epochs.\n",
        "\n",
        "# To Do:\n",
        "- Try different numbers of memory cells\n",
        "- Try different types and amounts of recurrent and fully connected layers\n",
        "- Try different lengths of training epochs\n",
        "- Try different sequence lengths and pre-processing of data\n",
        "- Try regularization techniques such as Dropout"
      ]
    },
    {
      "cell_type": "code",
      "metadata": {
        "scrolled": false,
        "id": "K1jO9lYX7kny",
        "colab": {
          "base_uri": "https://localhost:8080/"
        },
        "outputId": "3cef9986-9b73-4ff8-cecc-f13dc29a3940"
      },
      "source": [
        "#THIS\n",
        "# define model\n",
        "model = Sequential()\n",
        "model.add(LSTM(75, input_shape=(X.shape[1], X.shape[2])))\n",
        "model.add(Dense(vocab_size, activation='softmax'))\n",
        "print(model.summary())\n",
        "# compile model\n",
        "model.compile(loss='categorical_crossentropy', optimizer='adam', metrics=['accuracy'])\n",
        "# fit model\n",
        "history=model.fit(X, y, epochs=100)"
      ],
      "execution_count": 9,
      "outputs": [
        {
          "output_type": "stream",
          "name": "stdout",
          "text": [
            "Model: \"sequential\"\n",
            "_________________________________________________________________\n",
            " Layer (type)                Output Shape              Param #   \n",
            "=================================================================\n",
            " lstm (LSTM)                 (None, 75)                34200     \n",
            "                                                                 \n",
            " dense (Dense)               (None, 38)                2888      \n",
            "                                                                 \n",
            "=================================================================\n",
            "Total params: 37,088\n",
            "Trainable params: 37,088\n",
            "Non-trainable params: 0\n",
            "_________________________________________________________________\n",
            "None\n",
            "Epoch 1/100\n",
            "12/12 [==============================] - 2s 9ms/step - loss: 3.6163 - accuracy: 0.0677\n",
            "Epoch 2/100\n",
            "12/12 [==============================] - 0s 9ms/step - loss: 3.5220 - accuracy: 0.1328\n",
            "Epoch 3/100\n",
            "12/12 [==============================] - 0s 8ms/step - loss: 3.2328 - accuracy: 0.1719\n",
            "Epoch 4/100\n",
            "12/12 [==============================] - 0s 8ms/step - loss: 3.1398 - accuracy: 0.1589\n",
            "Epoch 5/100\n",
            "12/12 [==============================] - 0s 8ms/step - loss: 3.0811 - accuracy: 0.1589\n",
            "Epoch 6/100\n",
            "12/12 [==============================] - 0s 7ms/step - loss: 3.0415 - accuracy: 0.1589\n",
            "Epoch 7/100\n",
            "12/12 [==============================] - 0s 8ms/step - loss: 3.0263 - accuracy: 0.1589\n",
            "Epoch 8/100\n",
            "12/12 [==============================] - 0s 8ms/step - loss: 3.0124 - accuracy: 0.1589\n",
            "Epoch 9/100\n",
            "12/12 [==============================] - 0s 8ms/step - loss: 2.9909 - accuracy: 0.1693\n",
            "Epoch 10/100\n",
            "12/12 [==============================] - 0s 8ms/step - loss: 2.9808 - accuracy: 0.1641\n",
            "Epoch 11/100\n",
            "12/12 [==============================] - 0s 8ms/step - loss: 2.9558 - accuracy: 0.1719\n",
            "Epoch 12/100\n",
            "12/12 [==============================] - 0s 8ms/step - loss: 2.9327 - accuracy: 0.1719\n",
            "Epoch 13/100\n",
            "12/12 [==============================] - 0s 9ms/step - loss: 2.9067 - accuracy: 0.1875\n",
            "Epoch 14/100\n",
            "12/12 [==============================] - 0s 13ms/step - loss: 2.8868 - accuracy: 0.1901\n",
            "Epoch 15/100\n",
            "12/12 [==============================] - 0s 13ms/step - loss: 2.8483 - accuracy: 0.2188\n",
            "Epoch 16/100\n",
            "12/12 [==============================] - 0s 12ms/step - loss: 2.8221 - accuracy: 0.2031\n",
            "Epoch 17/100\n",
            "12/12 [==============================] - 0s 8ms/step - loss: 2.7926 - accuracy: 0.2188\n",
            "Epoch 18/100\n",
            "12/12 [==============================] - 0s 8ms/step - loss: 2.7629 - accuracy: 0.2266\n",
            "Epoch 19/100\n",
            "12/12 [==============================] - 0s 8ms/step - loss: 2.7274 - accuracy: 0.2188\n",
            "Epoch 20/100\n",
            "12/12 [==============================] - 0s 9ms/step - loss: 2.7029 - accuracy: 0.2266\n",
            "Epoch 21/100\n",
            "12/12 [==============================] - 0s 9ms/step - loss: 2.6772 - accuracy: 0.2474\n",
            "Epoch 22/100\n",
            "12/12 [==============================] - 0s 8ms/step - loss: 2.6399 - accuracy: 0.2760\n",
            "Epoch 23/100\n",
            "12/12 [==============================] - 0s 8ms/step - loss: 2.6142 - accuracy: 0.2552\n",
            "Epoch 24/100\n",
            "12/12 [==============================] - 0s 8ms/step - loss: 2.5835 - accuracy: 0.2734\n",
            "Epoch 25/100\n",
            "12/12 [==============================] - 0s 8ms/step - loss: 2.5475 - accuracy: 0.2682\n",
            "Epoch 26/100\n",
            "12/12 [==============================] - 0s 8ms/step - loss: 2.5246 - accuracy: 0.2839\n",
            "Epoch 27/100\n",
            "12/12 [==============================] - 0s 8ms/step - loss: 2.4861 - accuracy: 0.2943\n",
            "Epoch 28/100\n",
            "12/12 [==============================] - 0s 8ms/step - loss: 2.4390 - accuracy: 0.2891\n",
            "Epoch 29/100\n",
            "12/12 [==============================] - 0s 8ms/step - loss: 2.4047 - accuracy: 0.3229\n",
            "Epoch 30/100\n",
            "12/12 [==============================] - 0s 11ms/step - loss: 2.3857 - accuracy: 0.3229\n",
            "Epoch 31/100\n",
            "12/12 [==============================] - 0s 8ms/step - loss: 2.3393 - accuracy: 0.3333\n",
            "Epoch 32/100\n",
            "12/12 [==============================] - 0s 8ms/step - loss: 2.3072 - accuracy: 0.3411\n",
            "Epoch 33/100\n",
            "12/12 [==============================] - 0s 8ms/step - loss: 2.2643 - accuracy: 0.3646\n",
            "Epoch 34/100\n",
            "12/12 [==============================] - 0s 8ms/step - loss: 2.2391 - accuracy: 0.3724\n",
            "Epoch 35/100\n",
            "12/12 [==============================] - 0s 15ms/step - loss: 2.1860 - accuracy: 0.3698\n",
            "Epoch 36/100\n",
            "12/12 [==============================] - 0s 15ms/step - loss: 2.1524 - accuracy: 0.3828\n",
            "Epoch 37/100\n",
            "12/12 [==============================] - 0s 14ms/step - loss: 2.1139 - accuracy: 0.4010\n",
            "Epoch 38/100\n",
            "12/12 [==============================] - 0s 15ms/step - loss: 2.0677 - accuracy: 0.4245\n",
            "Epoch 39/100\n",
            "12/12 [==============================] - 0s 18ms/step - loss: 2.0224 - accuracy: 0.4036\n",
            "Epoch 40/100\n",
            "12/12 [==============================] - 0s 16ms/step - loss: 1.9696 - accuracy: 0.4479\n",
            "Epoch 41/100\n",
            "12/12 [==============================] - 0s 15ms/step - loss: 1.9234 - accuracy: 0.4740\n",
            "Epoch 42/100\n",
            "12/12 [==============================] - 0s 14ms/step - loss: 1.8867 - accuracy: 0.4896\n",
            "Epoch 43/100\n",
            "12/12 [==============================] - 0s 12ms/step - loss: 1.8507 - accuracy: 0.4661\n",
            "Epoch 44/100\n",
            "12/12 [==============================] - 0s 13ms/step - loss: 1.7956 - accuracy: 0.5000\n",
            "Epoch 45/100\n",
            "12/12 [==============================] - 0s 12ms/step - loss: 1.7737 - accuracy: 0.5052\n",
            "Epoch 46/100\n",
            "12/12 [==============================] - 0s 15ms/step - loss: 1.7141 - accuracy: 0.5286\n",
            "Epoch 47/100\n",
            "12/12 [==============================] - 0s 14ms/step - loss: 1.6699 - accuracy: 0.5677\n",
            "Epoch 48/100\n",
            "12/12 [==============================] - 0s 14ms/step - loss: 1.6285 - accuracy: 0.5625\n",
            "Epoch 49/100\n",
            "12/12 [==============================] - 0s 15ms/step - loss: 1.5845 - accuracy: 0.5599\n",
            "Epoch 50/100\n",
            "12/12 [==============================] - 0s 15ms/step - loss: 1.5436 - accuracy: 0.6068\n",
            "Epoch 51/100\n",
            "12/12 [==============================] - 0s 15ms/step - loss: 1.4986 - accuracy: 0.5885\n",
            "Epoch 52/100\n",
            "12/12 [==============================] - 0s 13ms/step - loss: 1.4706 - accuracy: 0.6276\n",
            "Epoch 53/100\n",
            "12/12 [==============================] - 0s 17ms/step - loss: 1.4219 - accuracy: 0.6406\n",
            "Epoch 54/100\n",
            "12/12 [==============================] - 0s 15ms/step - loss: 1.3777 - accuracy: 0.6536\n",
            "Epoch 55/100\n",
            "12/12 [==============================] - 0s 21ms/step - loss: 1.3460 - accuracy: 0.6406\n",
            "Epoch 56/100\n",
            "12/12 [==============================] - 0s 18ms/step - loss: 1.3007 - accuracy: 0.6719\n",
            "Epoch 57/100\n",
            "12/12 [==============================] - 0s 13ms/step - loss: 1.2660 - accuracy: 0.6797\n",
            "Epoch 58/100\n",
            "12/12 [==============================] - 0s 15ms/step - loss: 1.2379 - accuracy: 0.7135\n",
            "Epoch 59/100\n",
            "12/12 [==============================] - 0s 18ms/step - loss: 1.1912 - accuracy: 0.7161\n",
            "Epoch 60/100\n",
            "12/12 [==============================] - 0s 19ms/step - loss: 1.1528 - accuracy: 0.7344\n",
            "Epoch 61/100\n",
            "12/12 [==============================] - 0s 17ms/step - loss: 1.1104 - accuracy: 0.7656\n",
            "Epoch 62/100\n",
            "12/12 [==============================] - 0s 14ms/step - loss: 1.0643 - accuracy: 0.7656\n",
            "Epoch 63/100\n",
            "12/12 [==============================] - 0s 15ms/step - loss: 1.0180 - accuracy: 0.8151\n",
            "Epoch 64/100\n",
            "12/12 [==============================] - 0s 17ms/step - loss: 0.9912 - accuracy: 0.7943\n",
            "Epoch 65/100\n",
            "12/12 [==============================] - 0s 13ms/step - loss: 0.9375 - accuracy: 0.8281\n",
            "Epoch 66/100\n",
            "12/12 [==============================] - 0s 14ms/step - loss: 0.9131 - accuracy: 0.8385\n",
            "Epoch 67/100\n",
            "12/12 [==============================] - 0s 14ms/step - loss: 0.8792 - accuracy: 0.8490\n",
            "Epoch 68/100\n",
            "12/12 [==============================] - 0s 17ms/step - loss: 0.8476 - accuracy: 0.8568\n",
            "Epoch 69/100\n",
            "12/12 [==============================] - 0s 14ms/step - loss: 0.8226 - accuracy: 0.8646\n",
            "Epoch 70/100\n",
            "12/12 [==============================] - 0s 17ms/step - loss: 0.7778 - accuracy: 0.8906\n",
            "Epoch 71/100\n",
            "12/12 [==============================] - 0s 15ms/step - loss: 0.7632 - accuracy: 0.8932\n",
            "Epoch 72/100\n",
            "12/12 [==============================] - 0s 17ms/step - loss: 0.7173 - accuracy: 0.8880\n",
            "Epoch 73/100\n",
            "12/12 [==============================] - 0s 20ms/step - loss: 0.6877 - accuracy: 0.9245\n",
            "Epoch 74/100\n",
            "12/12 [==============================] - 0s 25ms/step - loss: 0.6584 - accuracy: 0.9115\n",
            "Epoch 75/100\n",
            "12/12 [==============================] - 0s 13ms/step - loss: 0.6379 - accuracy: 0.9219\n",
            "Epoch 76/100\n",
            "12/12 [==============================] - 0s 16ms/step - loss: 0.6331 - accuracy: 0.9089\n",
            "Epoch 77/100\n",
            "12/12 [==============================] - 0s 15ms/step - loss: 0.5945 - accuracy: 0.9193\n",
            "Epoch 78/100\n",
            "12/12 [==============================] - 0s 16ms/step - loss: 0.5636 - accuracy: 0.9401\n",
            "Epoch 79/100\n",
            "12/12 [==============================] - 0s 18ms/step - loss: 0.5366 - accuracy: 0.9505\n",
            "Epoch 80/100\n",
            "12/12 [==============================] - 0s 17ms/step - loss: 0.5065 - accuracy: 0.9635\n",
            "Epoch 81/100\n",
            "12/12 [==============================] - 0s 13ms/step - loss: 0.4808 - accuracy: 0.9661\n",
            "Epoch 82/100\n",
            "12/12 [==============================] - 0s 17ms/step - loss: 0.4644 - accuracy: 0.9531\n",
            "Epoch 83/100\n",
            "12/12 [==============================] - 0s 16ms/step - loss: 0.4460 - accuracy: 0.9740\n",
            "Epoch 84/100\n",
            "12/12 [==============================] - 0s 15ms/step - loss: 0.4318 - accuracy: 0.9714\n",
            "Epoch 85/100\n",
            "12/12 [==============================] - 0s 14ms/step - loss: 0.4114 - accuracy: 0.9688\n",
            "Epoch 86/100\n",
            "12/12 [==============================] - 0s 15ms/step - loss: 0.3927 - accuracy: 0.9766\n",
            "Epoch 87/100\n",
            "12/12 [==============================] - 0s 16ms/step - loss: 0.3755 - accuracy: 0.9740\n",
            "Epoch 88/100\n",
            "12/12 [==============================] - 0s 16ms/step - loss: 0.3582 - accuracy: 0.9844\n",
            "Epoch 89/100\n",
            "12/12 [==============================] - 0s 12ms/step - loss: 0.3479 - accuracy: 0.9844\n",
            "Epoch 90/100\n",
            "12/12 [==============================] - 0s 13ms/step - loss: 0.3315 - accuracy: 0.9870\n",
            "Epoch 91/100\n",
            "12/12 [==============================] - 0s 14ms/step - loss: 0.3172 - accuracy: 0.9870\n",
            "Epoch 92/100\n",
            "12/12 [==============================] - 0s 14ms/step - loss: 0.3067 - accuracy: 0.9870\n",
            "Epoch 93/100\n",
            "12/12 [==============================] - 0s 15ms/step - loss: 0.2953 - accuracy: 0.9870\n",
            "Epoch 94/100\n",
            "12/12 [==============================] - 0s 16ms/step - loss: 0.2870 - accuracy: 0.9844\n",
            "Epoch 95/100\n",
            "12/12 [==============================] - 0s 17ms/step - loss: 0.2739 - accuracy: 0.9896\n",
            "Epoch 96/100\n",
            "12/12 [==============================] - 0s 17ms/step - loss: 0.2610 - accuracy: 0.9896\n",
            "Epoch 97/100\n",
            "12/12 [==============================] - 0s 13ms/step - loss: 0.2508 - accuracy: 0.9896\n",
            "Epoch 98/100\n",
            "12/12 [==============================] - 0s 17ms/step - loss: 0.2418 - accuracy: 0.9922\n",
            "Epoch 99/100\n",
            "12/12 [==============================] - 0s 19ms/step - loss: 0.2427 - accuracy: 0.9896\n",
            "Epoch 100/100\n",
            "12/12 [==============================] - 0s 8ms/step - loss: 0.2297 - accuracy: 0.9922\n"
          ]
        }
      ]
    },
    {
      "cell_type": "code",
      "metadata": {
        "id": "raAPR9Qp7kn1"
      },
      "source": [
        "#THIS\n",
        "# save the model to file\n",
        "model.save('model.h5')\n",
        "# save the mapping\n",
        "dump(mapping, open('mapping.pkl', 'wb'))"
      ],
      "execution_count": 10,
      "outputs": []
    },
    {
      "cell_type": "markdown",
      "metadata": {
        "id": "vv4Q4Rkf7kn4"
      },
      "source": [
        "# Generating Text"
      ]
    },
    {
      "cell_type": "markdown",
      "metadata": {
        "id": "EigunCf57kn6"
      },
      "source": [
        "We must provide sequences of 10 characters as input to the model in order to start the generation process. We will pick these manually. A given input sequence will need to be prepared in the same way as preparing the training data for the model. "
      ]
    },
    {
      "cell_type": "code",
      "metadata": {
        "id": "6UCWctow7kn-"
      },
      "source": [
        "from pickle import load\n",
        "import numpy as np\n",
        "from keras.models import load_model\n",
        "from tensorflow.keras.utils import to_categorical\n",
        "from keras_preprocessing.sequence import pad_sequences\n",
        "\n",
        "# generate a sequence of characters with a language model\n",
        "def generate_seq(model, mapping, seq_length, seed_text, n_chars):\n",
        "    in_text = seed_text\n",
        "    # generate a fixed number of characters\n",
        "    for _ in range(n_chars):\n",
        "        # encode the characters as integers\n",
        "        encoded = [mapping[char] for char in in_text]\n",
        "        # truncate sequences to a fixed length\n",
        "        encoded = pad_sequences([encoded], maxlen=seq_length, truncating='pre')\n",
        "        # one hot encode\n",
        "        encoded = to_categorical(encoded, num_classes=len(mapping))\n",
        "        # predict character\n",
        "        yhat = np.argmax(model.predict(encoded), axis=-1)\n",
        "        # reverse map integer to character\n",
        "        out_char = ''\n",
        "        for char, index in mapping.items():\n",
        "            if index == yhat:\n",
        "                out_char = char\n",
        "                break\n",
        "        # append to input\n",
        "        in_text += char\n",
        "    return in_text\n",
        "\n",
        "\n",
        "#THIS\n",
        "# load the model\n",
        "model = load_model('model.h5')\n",
        "# load the mapping\n",
        "mapping = load(open('mapping.pkl', 'rb'))"
      ],
      "execution_count": 12,
      "outputs": []
    },
    {
      "cell_type": "markdown",
      "metadata": {
        "id": "PXn18EY57koA"
      },
      "source": [
        "Running the example generates three sequences of text.\n",
        "\n",
        "The first is a test to see how the model does at starting from the beginning of the rhyme. The second is a test to see how well it does at beginning in the middle of a line. The final example is a test to see how well it does with a sequence of characters never seen before."
      ]
    },
    {
      "cell_type": "code",
      "metadata": {
        "id": "5UhgrJYh7koB",
        "colab": {
          "base_uri": "https://localhost:8080/"
        },
        "outputId": "83955121-21bd-4caf-e9a3-0c934caa5ed8"
      },
      "source": [
        "#THIS \n",
        "# test start of rhyme\n",
        "print(generate_seq(model, mapping, 10, 'Sing a son', 20))\n",
        "# test mid-line\n",
        "print(generate_seq(model, mapping, 10, 'king was i', 20))\n",
        "# test not in original\n",
        "print(generate_seq(model, mapping, 10, 'hello worl', 20))"
      ],
      "execution_count": 13,
      "outputs": [
        {
          "output_type": "stream",
          "name": "stdout",
          "text": [
            "1/1 [==============================] - 0s 437ms/step\n",
            "1/1 [==============================] - 0s 18ms/step\n",
            "1/1 [==============================] - 0s 18ms/step\n",
            "1/1 [==============================] - 0s 18ms/step\n",
            "1/1 [==============================] - 0s 27ms/step\n",
            "1/1 [==============================] - 0s 20ms/step\n",
            "1/1 [==============================] - 0s 18ms/step\n",
            "1/1 [==============================] - 0s 18ms/step\n",
            "1/1 [==============================] - 0s 18ms/step\n",
            "1/1 [==============================] - 0s 18ms/step\n",
            "1/1 [==============================] - 0s 18ms/step\n",
            "1/1 [==============================] - 0s 18ms/step\n",
            "1/1 [==============================] - 0s 18ms/step\n",
            "1/1 [==============================] - 0s 21ms/step\n",
            "1/1 [==============================] - 0s 17ms/step\n",
            "1/1 [==============================] - 0s 24ms/step\n",
            "1/1 [==============================] - 0s 21ms/step\n",
            "1/1 [==============================] - 0s 17ms/step\n",
            "1/1 [==============================] - 0s 19ms/step\n",
            "1/1 [==============================] - 0s 18ms/step\n",
            "Sing a song of sixpence,A pock\n",
            "1/1 [==============================] - 0s 19ms/step\n",
            "1/1 [==============================] - 0s 20ms/step\n",
            "1/1 [==============================] - 0s 21ms/step\n",
            "1/1 [==============================] - 0s 18ms/step\n",
            "1/1 [==============================] - 0s 19ms/step\n",
            "1/1 [==============================] - 0s 18ms/step\n",
            "1/1 [==============================] - 0s 22ms/step\n",
            "1/1 [==============================] - 0s 19ms/step\n",
            "1/1 [==============================] - 0s 23ms/step\n",
            "1/1 [==============================] - 0s 18ms/step\n",
            "1/1 [==============================] - 0s 24ms/step\n",
            "1/1 [==============================] - 0s 19ms/step\n",
            "1/1 [==============================] - 0s 21ms/step\n",
            "1/1 [==============================] - 0s 17ms/step\n",
            "1/1 [==============================] - 0s 18ms/step\n",
            "1/1 [==============================] - 0s 18ms/step\n",
            "1/1 [==============================] - 0s 17ms/step\n",
            "1/1 [==============================] - 0s 18ms/step\n",
            "1/1 [==============================] - 0s 19ms/step\n",
            "1/1 [==============================] - 0s 24ms/step\n",
            "king was in his counting house\n",
            "1/1 [==============================] - 0s 22ms/step\n",
            "1/1 [==============================] - 0s 19ms/step\n",
            "1/1 [==============================] - 0s 20ms/step\n",
            "1/1 [==============================] - 0s 21ms/step\n",
            "1/1 [==============================] - 0s 19ms/step\n",
            "1/1 [==============================] - 0s 22ms/step\n",
            "1/1 [==============================] - 0s 17ms/step\n",
            "1/1 [==============================] - 0s 17ms/step\n",
            "1/1 [==============================] - 0s 20ms/step\n",
            "1/1 [==============================] - 0s 20ms/step\n",
            "1/1 [==============================] - 0s 20ms/step\n",
            "1/1 [==============================] - 0s 19ms/step\n",
            "1/1 [==============================] - 0s 20ms/step\n",
            "1/1 [==============================] - 0s 27ms/step\n",
            "1/1 [==============================] - 0s 36ms/step\n",
            "1/1 [==============================] - 0s 20ms/step\n",
            "1/1 [==============================] - 0s 18ms/step\n",
            "1/1 [==============================] - 0s 22ms/step\n",
            "1/1 [==============================] - 0s 20ms/step\n",
            "1/1 [==============================] - 0s 22ms/step\n",
            "hello worl,,an eein.f pbkkd t \n"
          ]
        }
      ]
    },
    {
      "cell_type": "markdown",
      "metadata": {
        "id": "UXhN-xhG7koE"
      },
      "source": [
        "If the results aren't satisfactory, try out the suggestions above or these below:\n",
        "- Padding. Update the example to provides sequences line by line only and use padding to fill out each sequence to the maximum line length.\n",
        "- Sequence Length. Experiment with different sequence lengths and see how they impact the behavior of the model.\n",
        "- Tune Model. Experiment with different model configurations, such as the number of memory cells and epochs, and try to develop a better model for fewer resources.\n"
      ]
    },
    {
      "cell_type": "markdown",
      "metadata": {
        "id": "7kyXdm-f7koF"
      },
      "source": [
        "# Deliverables to receive credit\n",
        "\n",
        "1. (4 points) Optimize the cells above to tune the model so that it generates text that closely resembles the orginal line from the rhyme, or at least generates sensible words. It's okay if the third example using unseen text still looks somewhat strange  though. Again, this is a toy problem, as language models require a lot of computation. This toy problem is great for rapid experimentation to explore different aspects of deep learning language models.\n",
        "2. (3 points) Write a function to split the text corpus file into training and validation and pipe the validation data into the model.fit() function to be able to track validation error per epoch. Lookup Keras documentation to see how this is handled.\n",
        "3. (3 points) Write a summary (methods and results) in the cells below of the different things you applied. You must include your intuitions behind what did work and what did not work well.\n",
        "4. (Extra Credit 2.5 points) Do something even more interesting. Try a different source text. Train a word-level model. We'll leave it up to your creativity to explore and write a summary of your methods and results.\n"
      ]
    },
    {
      "cell_type": "code",
      "metadata": {
        "id": "njvIURzq7koG"
      },
      "source": [
        "  s = 'But mostly he watched with eager search\\\n",
        "  The belfry tower of the Old North Church,\\\n",
        "  As it rose above the graves on the hill,\\\n",
        "  Lonely and spectral and sombre and still.\\\n",
        "  And lo! as he looks, on the belfry height\\\n",
        "  A glimmer, and then a gleam of light!\\\n",
        "  He springs to the saddle, the bridle he turns,\\\n",
        "  But lingers and gazes, till full on his sight\\\n",
        "  A second lamp in the belfry burns.'\n",
        "\n",
        "  with open('rhymes.txt','w') as f:\n",
        "    f.write(s)"
      ],
      "execution_count": 42,
      "outputs": []
    },
    {
      "cell_type": "code",
      "metadata": {
        "id": "bh9kQZnr7koK",
        "outputId": "1e6442f6-bf3b-4532-922d-75a5a68dd757",
        "colab": {
          "base_uri": "https://localhost:8080/"
        }
      },
      "source": [
        "#load text\n",
        "raw_text1 = load_doc('rhymes.txt')\n",
        "print(raw_text1)\n",
        "\n",
        "# clean\n",
        "tokens1 = raw_text1.split()\n",
        "raw_text1 = ' '.join(tokens1)\n",
        "\n",
        "# organize into sequences of characters\n",
        "length = 10\n",
        "sequences = list()\n",
        "for i in range(length, len(raw_text1)):\n",
        "    # select sequence of tokens\n",
        "    seq = raw_text1[i-length:i+1]\n",
        "    # store\n",
        "    sequences.append(seq)\n",
        "print('Total Sequences: %d' % len(sequences))"
      ],
      "execution_count": 43,
      "outputs": [
        {
          "output_type": "stream",
          "name": "stdout",
          "text": [
            "But mostly he watched with eager searchThe belfry tower of the Old North Church,As it rose above the graves on the hill,Lonely and spectral and sombre and still.And lo! as he looks, on the belfry heightA glimmer, and then a gleam of light!He springs to the saddle, the bridle he turns,But lingers and gazes, till full on his sightA second lamp in the belfry burns.\n",
            "Total Sequences: 354\n"
          ]
        }
      ]
    },
    {
      "cell_type": "code",
      "source": [
        "# save sequences to file\n",
        "out_filename1 = 'char_sequences1.txt'\n",
        "save_doc(sequences, out_filename1)"
      ],
      "metadata": {
        "id": "kCDsGltdelQ7"
      },
      "execution_count": 44,
      "outputs": []
    },
    {
      "cell_type": "code",
      "source": [
        "in_filename = 'char_sequences1.txt'\n",
        "raw_text1 = load_doc(in_filename)\n",
        "lines = raw_text1.split('\\n')"
      ],
      "metadata": {
        "id": "mMLR19j4enqD"
      },
      "execution_count": 45,
      "outputs": []
    },
    {
      "cell_type": "code",
      "source": [
        "# integer encode sequences of characters\n",
        "chars = sorted(list(set(raw_text1)))\n",
        "mapping = dict((c, i) for i, c in enumerate(chars))\n",
        "sequences = list()\n",
        "for line in lines:\n",
        "    # integer encode line\n",
        "    encoded_seq = [mapping[char] for char in line]\n",
        "    # store\n",
        "    sequences.append(encoded_seq)\n",
        "\n",
        "# vocabulary size\n",
        "vocab_size = len(mapping)\n",
        "print('Vocabulary Size: %d' % vocab_size)\n",
        "\n",
        "# separate into input and output\n",
        "sequences = array(sequences)\n",
        "X, y = sequences[:,:-1], sequences[:,-1]\n",
        "sequences = [to_categorical(x, num_classes=vocab_size) for x in X]\n",
        "X = array(sequences)\n",
        "y = to_categorical(y, num_classes=vocab_size)"
      ],
      "metadata": {
        "id": "QH2hFAWwerd1",
        "outputId": "536bb733-8324-4b3c-a400-6ce787a702c3",
        "colab": {
          "base_uri": "https://localhost:8080/"
        }
      },
      "execution_count": 46,
      "outputs": [
        {
          "output_type": "stream",
          "name": "stdout",
          "text": [
            "Vocabulary Size: 36\n"
          ]
        }
      ]
    },
    {
      "cell_type": "code",
      "source": [
        "model = Sequential()\n",
        "model.add(LSTM(75, input_shape=(X.shape[1], X.shape[2])))\n",
        "model.add(Dense(vocab_size, activation='softmax'))\n",
        "print(model.summary())\n",
        "# compile model\n",
        "model.compile(loss='categorical_crossentropy', optimizer='adam', metrics=['accuracy'])\n",
        "# fit model\n",
        "history=model.fit(X, y, epochs= 150)\n"
      ],
      "metadata": {
        "id": "RjK6W7yeerfF",
        "outputId": "825ca9a2-216d-4703-c521-9797f873c888",
        "colab": {
          "base_uri": "https://localhost:8080/"
        }
      },
      "execution_count": 54,
      "outputs": [
        {
          "output_type": "stream",
          "name": "stdout",
          "text": [
            "Model: \"sequential_9\"\n",
            "_________________________________________________________________\n",
            " Layer (type)                Output Shape              Param #   \n",
            "=================================================================\n",
            " lstm_9 (LSTM)               (None, 75)                33600     \n",
            "                                                                 \n",
            " dense_8 (Dense)             (None, 36)                2736      \n",
            "                                                                 \n",
            "=================================================================\n",
            "Total params: 36,336\n",
            "Trainable params: 36,336\n",
            "Non-trainable params: 0\n",
            "_________________________________________________________________\n",
            "None\n",
            "Epoch 1/150\n",
            "12/12 [==============================] - 2s 9ms/step - loss: 3.5549 - accuracy: 0.1243\n",
            "Epoch 2/150\n",
            "12/12 [==============================] - 0s 9ms/step - loss: 3.4600 - accuracy: 0.1723\n",
            "Epoch 3/150\n",
            "12/12 [==============================] - 0s 9ms/step - loss: 3.2250 - accuracy: 0.1780\n",
            "Epoch 4/150\n",
            "12/12 [==============================] - 0s 10ms/step - loss: 3.0775 - accuracy: 0.1780\n",
            "Epoch 5/150\n",
            "12/12 [==============================] - 0s 9ms/step - loss: 3.0254 - accuracy: 0.1780\n",
            "Epoch 6/150\n",
            "12/12 [==============================] - 0s 9ms/step - loss: 2.9895 - accuracy: 0.1780\n",
            "Epoch 7/150\n",
            "12/12 [==============================] - 0s 9ms/step - loss: 2.9581 - accuracy: 0.1780\n",
            "Epoch 8/150\n",
            "12/12 [==============================] - 0s 9ms/step - loss: 2.9458 - accuracy: 0.1780\n",
            "Epoch 9/150\n",
            "12/12 [==============================] - 0s 9ms/step - loss: 2.9306 - accuracy: 0.1780\n",
            "Epoch 10/150\n",
            "12/12 [==============================] - 0s 9ms/step - loss: 2.9189 - accuracy: 0.1780\n",
            "Epoch 11/150\n",
            "12/12 [==============================] - 0s 9ms/step - loss: 2.9095 - accuracy: 0.1780\n",
            "Epoch 12/150\n",
            "12/12 [==============================] - 0s 10ms/step - loss: 2.8835 - accuracy: 0.1780\n",
            "Epoch 13/150\n",
            "12/12 [==============================] - 0s 9ms/step - loss: 2.8775 - accuracy: 0.2006\n",
            "Epoch 14/150\n",
            "12/12 [==============================] - 0s 9ms/step - loss: 2.8698 - accuracy: 0.2034\n",
            "Epoch 15/150\n",
            "12/12 [==============================] - 0s 9ms/step - loss: 2.8356 - accuracy: 0.1893\n",
            "Epoch 16/150\n",
            "12/12 [==============================] - 0s 9ms/step - loss: 2.8215 - accuracy: 0.1780\n",
            "Epoch 17/150\n",
            "12/12 [==============================] - 0s 10ms/step - loss: 2.7995 - accuracy: 0.1921\n",
            "Epoch 18/150\n",
            "12/12 [==============================] - 0s 9ms/step - loss: 2.7833 - accuracy: 0.2090\n",
            "Epoch 19/150\n",
            "12/12 [==============================] - 0s 9ms/step - loss: 2.7576 - accuracy: 0.2034\n",
            "Epoch 20/150\n",
            "12/12 [==============================] - 0s 9ms/step - loss: 2.7354 - accuracy: 0.1949\n",
            "Epoch 21/150\n",
            "12/12 [==============================] - 0s 9ms/step - loss: 2.7299 - accuracy: 0.1893\n",
            "Epoch 22/150\n",
            "12/12 [==============================] - 0s 10ms/step - loss: 2.6783 - accuracy: 0.2514\n",
            "Epoch 23/150\n",
            "12/12 [==============================] - 0s 9ms/step - loss: 2.6683 - accuracy: 0.2571\n",
            "Epoch 24/150\n",
            "12/12 [==============================] - 0s 10ms/step - loss: 2.6467 - accuracy: 0.2260\n",
            "Epoch 25/150\n",
            "12/12 [==============================] - 0s 9ms/step - loss: 2.6357 - accuracy: 0.2458\n",
            "Epoch 26/150\n",
            "12/12 [==============================] - 0s 9ms/step - loss: 2.6119 - accuracy: 0.2203\n",
            "Epoch 27/150\n",
            "12/12 [==============================] - 0s 11ms/step - loss: 2.5733 - accuracy: 0.2853\n",
            "Epoch 28/150\n",
            "12/12 [==============================] - 0s 9ms/step - loss: 2.5620 - accuracy: 0.2006\n",
            "Epoch 29/150\n",
            "12/12 [==============================] - 0s 10ms/step - loss: 2.5053 - accuracy: 0.2853\n",
            "Epoch 30/150\n",
            "12/12 [==============================] - 0s 10ms/step - loss: 2.4947 - accuracy: 0.2712\n",
            "Epoch 31/150\n",
            "12/12 [==============================] - 0s 9ms/step - loss: 2.4442 - accuracy: 0.2994\n",
            "Epoch 32/150\n",
            "12/12 [==============================] - 0s 9ms/step - loss: 2.4027 - accuracy: 0.3107\n",
            "Epoch 33/150\n",
            "12/12 [==============================] - 0s 9ms/step - loss: 2.3913 - accuracy: 0.3277\n",
            "Epoch 34/150\n",
            "12/12 [==============================] - 0s 9ms/step - loss: 2.3565 - accuracy: 0.3305\n",
            "Epoch 35/150\n",
            "12/12 [==============================] - 0s 9ms/step - loss: 2.3233 - accuracy: 0.3051\n",
            "Epoch 36/150\n",
            "12/12 [==============================] - 0s 9ms/step - loss: 2.2907 - accuracy: 0.3503\n",
            "Epoch 37/150\n",
            "12/12 [==============================] - 0s 9ms/step - loss: 2.2555 - accuracy: 0.3616\n",
            "Epoch 38/150\n",
            "12/12 [==============================] - 0s 11ms/step - loss: 2.2259 - accuracy: 0.3814\n",
            "Epoch 39/150\n",
            "12/12 [==============================] - 0s 9ms/step - loss: 2.2059 - accuracy: 0.3446\n",
            "Epoch 40/150\n",
            "12/12 [==============================] - 0s 9ms/step - loss: 2.1844 - accuracy: 0.3842\n",
            "Epoch 41/150\n",
            "12/12 [==============================] - 0s 9ms/step - loss: 2.1659 - accuracy: 0.3983\n",
            "Epoch 42/150\n",
            "12/12 [==============================] - 0s 9ms/step - loss: 2.1166 - accuracy: 0.3701\n",
            "Epoch 43/150\n",
            "12/12 [==============================] - 0s 9ms/step - loss: 2.0756 - accuracy: 0.4011\n",
            "Epoch 44/150\n",
            "12/12 [==============================] - 0s 9ms/step - loss: 2.0561 - accuracy: 0.4237\n",
            "Epoch 45/150\n",
            "12/12 [==============================] - 0s 9ms/step - loss: 2.0521 - accuracy: 0.4407\n",
            "Epoch 46/150\n",
            "12/12 [==============================] - 0s 9ms/step - loss: 2.0022 - accuracy: 0.4294\n",
            "Epoch 47/150\n",
            "12/12 [==============================] - 0s 11ms/step - loss: 1.9636 - accuracy: 0.4492\n",
            "Epoch 48/150\n",
            "12/12 [==============================] - 0s 9ms/step - loss: 1.9566 - accuracy: 0.4548\n",
            "Epoch 49/150\n",
            "12/12 [==============================] - 0s 9ms/step - loss: 1.9130 - accuracy: 0.4661\n",
            "Epoch 50/150\n",
            "12/12 [==============================] - 0s 9ms/step - loss: 1.9277 - accuracy: 0.4407\n",
            "Epoch 51/150\n",
            "12/12 [==============================] - 0s 9ms/step - loss: 1.8618 - accuracy: 0.4605\n",
            "Epoch 52/150\n",
            "12/12 [==============================] - 0s 9ms/step - loss: 1.8427 - accuracy: 0.5141\n",
            "Epoch 53/150\n",
            "12/12 [==============================] - 0s 9ms/step - loss: 1.8000 - accuracy: 0.5226\n",
            "Epoch 54/150\n",
            "12/12 [==============================] - 0s 9ms/step - loss: 1.7797 - accuracy: 0.5169\n",
            "Epoch 55/150\n",
            "12/12 [==============================] - 0s 9ms/step - loss: 1.7605 - accuracy: 0.5000\n",
            "Epoch 56/150\n",
            "12/12 [==============================] - 0s 9ms/step - loss: 1.7229 - accuracy: 0.5311\n",
            "Epoch 57/150\n",
            "12/12 [==============================] - 0s 9ms/step - loss: 1.6803 - accuracy: 0.5706\n",
            "Epoch 58/150\n",
            "12/12 [==============================] - 0s 9ms/step - loss: 1.6242 - accuracy: 0.5452\n",
            "Epoch 59/150\n",
            "12/12 [==============================] - 0s 9ms/step - loss: 1.6195 - accuracy: 0.5847\n",
            "Epoch 60/150\n",
            "12/12 [==============================] - 0s 9ms/step - loss: 1.5785 - accuracy: 0.5678\n",
            "Epoch 61/150\n",
            "12/12 [==============================] - 0s 9ms/step - loss: 1.5568 - accuracy: 0.5847\n",
            "Epoch 62/150\n",
            "12/12 [==============================] - 0s 9ms/step - loss: 1.5407 - accuracy: 0.5904\n",
            "Epoch 63/150\n",
            "12/12 [==============================] - 0s 9ms/step - loss: 1.5500 - accuracy: 0.5650\n",
            "Epoch 64/150\n",
            "12/12 [==============================] - 0s 10ms/step - loss: 1.5101 - accuracy: 0.6130\n",
            "Epoch 65/150\n",
            "12/12 [==============================] - 0s 9ms/step - loss: 1.5131 - accuracy: 0.5763\n",
            "Epoch 66/150\n",
            "12/12 [==============================] - 0s 9ms/step - loss: 1.4579 - accuracy: 0.6186\n",
            "Epoch 67/150\n",
            "12/12 [==============================] - 0s 9ms/step - loss: 1.4026 - accuracy: 0.6469\n",
            "Epoch 68/150\n",
            "12/12 [==============================] - 0s 9ms/step - loss: 1.3567 - accuracy: 0.6610\n",
            "Epoch 69/150\n",
            "12/12 [==============================] - 0s 9ms/step - loss: 1.3390 - accuracy: 0.6469\n",
            "Epoch 70/150\n",
            "12/12 [==============================] - 0s 9ms/step - loss: 1.3217 - accuracy: 0.6864\n",
            "Epoch 71/150\n",
            "12/12 [==============================] - 0s 9ms/step - loss: 1.2772 - accuracy: 0.6610\n",
            "Epoch 72/150\n",
            "12/12 [==============================] - 0s 10ms/step - loss: 1.2665 - accuracy: 0.6864\n",
            "Epoch 73/150\n",
            "12/12 [==============================] - 0s 10ms/step - loss: 1.2338 - accuracy: 0.7006\n",
            "Epoch 74/150\n",
            "12/12 [==============================] - 0s 9ms/step - loss: 1.2198 - accuracy: 0.6864\n",
            "Epoch 75/150\n",
            "12/12 [==============================] - 0s 10ms/step - loss: 1.2174 - accuracy: 0.6864\n",
            "Epoch 76/150\n",
            "12/12 [==============================] - 0s 9ms/step - loss: 1.1655 - accuracy: 0.7401\n",
            "Epoch 77/150\n",
            "12/12 [==============================] - 0s 9ms/step - loss: 1.1540 - accuracy: 0.7542\n",
            "Epoch 78/150\n",
            "12/12 [==============================] - 0s 9ms/step - loss: 1.1287 - accuracy: 0.7175\n",
            "Epoch 79/150\n",
            "12/12 [==============================] - 0s 9ms/step - loss: 1.0947 - accuracy: 0.7401\n",
            "Epoch 80/150\n",
            "12/12 [==============================] - 0s 9ms/step - loss: 1.0697 - accuracy: 0.7655\n",
            "Epoch 81/150\n",
            "12/12 [==============================] - 0s 11ms/step - loss: 1.0672 - accuracy: 0.7542\n",
            "Epoch 82/150\n",
            "12/12 [==============================] - 0s 9ms/step - loss: 1.0302 - accuracy: 0.7599\n",
            "Epoch 83/150\n",
            "12/12 [==============================] - 0s 9ms/step - loss: 1.0034 - accuracy: 0.7599\n",
            "Epoch 84/150\n",
            "12/12 [==============================] - 0s 9ms/step - loss: 1.0011 - accuracy: 0.7938\n",
            "Epoch 85/150\n",
            "12/12 [==============================] - 0s 9ms/step - loss: 0.9603 - accuracy: 0.8051\n",
            "Epoch 86/150\n",
            "12/12 [==============================] - 0s 10ms/step - loss: 0.9451 - accuracy: 0.8051\n",
            "Epoch 87/150\n",
            "12/12 [==============================] - 0s 9ms/step - loss: 0.8969 - accuracy: 0.8362\n",
            "Epoch 88/150\n",
            "12/12 [==============================] - 0s 9ms/step - loss: 0.9040 - accuracy: 0.8136\n",
            "Epoch 89/150\n",
            "12/12 [==============================] - 0s 9ms/step - loss: 0.8895 - accuracy: 0.8051\n",
            "Epoch 90/150\n",
            "12/12 [==============================] - 0s 10ms/step - loss: 0.8331 - accuracy: 0.8475\n",
            "Epoch 91/150\n",
            "12/12 [==============================] - 0s 9ms/step - loss: 0.8116 - accuracy: 0.8503\n",
            "Epoch 92/150\n",
            "12/12 [==============================] - 0s 9ms/step - loss: 0.7923 - accuracy: 0.8559\n",
            "Epoch 93/150\n",
            "12/12 [==============================] - 0s 9ms/step - loss: 0.8022 - accuracy: 0.8503\n",
            "Epoch 94/150\n",
            "12/12 [==============================] - 0s 9ms/step - loss: 0.7585 - accuracy: 0.8672\n",
            "Epoch 95/150\n",
            "12/12 [==============================] - 0s 9ms/step - loss: 0.7374 - accuracy: 0.8898\n",
            "Epoch 96/150\n",
            "12/12 [==============================] - 0s 9ms/step - loss: 0.7516 - accuracy: 0.8588\n",
            "Epoch 97/150\n",
            "12/12 [==============================] - 0s 9ms/step - loss: 0.7136 - accuracy: 0.8870\n",
            "Epoch 98/150\n",
            "12/12 [==============================] - 0s 11ms/step - loss: 0.6679 - accuracy: 0.8983\n",
            "Epoch 99/150\n",
            "12/12 [==============================] - 0s 9ms/step - loss: 0.6811 - accuracy: 0.8814\n",
            "Epoch 100/150\n",
            "12/12 [==============================] - 0s 9ms/step - loss: 0.6347 - accuracy: 0.9068\n",
            "Epoch 101/150\n",
            "12/12 [==============================] - 0s 11ms/step - loss: 0.6354 - accuracy: 0.8870\n",
            "Epoch 102/150\n",
            "12/12 [==============================] - 0s 9ms/step - loss: 0.6193 - accuracy: 0.9011\n",
            "Epoch 103/150\n",
            "12/12 [==============================] - 0s 9ms/step - loss: 0.5926 - accuracy: 0.9124\n",
            "Epoch 104/150\n",
            "12/12 [==============================] - 0s 9ms/step - loss: 0.5712 - accuracy: 0.9181\n",
            "Epoch 105/150\n",
            "12/12 [==============================] - 0s 9ms/step - loss: 0.5841 - accuracy: 0.8955\n",
            "Epoch 106/150\n",
            "12/12 [==============================] - 0s 9ms/step - loss: 0.5541 - accuracy: 0.9124\n",
            "Epoch 107/150\n",
            "12/12 [==============================] - 0s 10ms/step - loss: 0.5197 - accuracy: 0.9294\n",
            "Epoch 108/150\n",
            "12/12 [==============================] - 0s 9ms/step - loss: 0.5074 - accuracy: 0.9181\n",
            "Epoch 109/150\n",
            "12/12 [==============================] - 0s 9ms/step - loss: 0.4994 - accuracy: 0.9266\n",
            "Epoch 110/150\n",
            "12/12 [==============================] - 0s 9ms/step - loss: 0.4915 - accuracy: 0.9435\n",
            "Epoch 111/150\n",
            "12/12 [==============================] - 0s 9ms/step - loss: 0.4924 - accuracy: 0.9350\n",
            "Epoch 112/150\n",
            "12/12 [==============================] - 0s 10ms/step - loss: 0.4887 - accuracy: 0.9492\n",
            "Epoch 113/150\n",
            "12/12 [==============================] - 0s 9ms/step - loss: 0.4792 - accuracy: 0.9463\n",
            "Epoch 114/150\n",
            "12/12 [==============================] - 0s 9ms/step - loss: 0.4512 - accuracy: 0.9435\n",
            "Epoch 115/150\n",
            "12/12 [==============================] - 0s 11ms/step - loss: 0.4314 - accuracy: 0.9605\n",
            "Epoch 116/150\n",
            "12/12 [==============================] - 0s 8ms/step - loss: 0.4460 - accuracy: 0.9492\n",
            "Epoch 117/150\n",
            "12/12 [==============================] - 0s 9ms/step - loss: 0.4112 - accuracy: 0.9548\n",
            "Epoch 118/150\n",
            "12/12 [==============================] - 0s 9ms/step - loss: 0.3866 - accuracy: 0.9661\n",
            "Epoch 119/150\n",
            "12/12 [==============================] - 0s 9ms/step - loss: 0.3809 - accuracy: 0.9661\n",
            "Epoch 120/150\n",
            "12/12 [==============================] - 0s 9ms/step - loss: 0.3672 - accuracy: 0.9689\n",
            "Epoch 121/150\n",
            "12/12 [==============================] - 0s 9ms/step - loss: 0.3740 - accuracy: 0.9689\n",
            "Epoch 122/150\n",
            "12/12 [==============================] - 0s 9ms/step - loss: 0.3497 - accuracy: 0.9774\n",
            "Epoch 123/150\n",
            "12/12 [==============================] - 0s 11ms/step - loss: 0.3394 - accuracy: 0.9774\n",
            "Epoch 124/150\n",
            "12/12 [==============================] - 0s 10ms/step - loss: 0.3368 - accuracy: 0.9746\n",
            "Epoch 125/150\n",
            "12/12 [==============================] - 0s 10ms/step - loss: 0.3296 - accuracy: 0.9774\n",
            "Epoch 126/150\n",
            "12/12 [==============================] - 0s 9ms/step - loss: 0.3571 - accuracy: 0.9633\n",
            "Epoch 127/150\n",
            "12/12 [==============================] - 0s 9ms/step - loss: 0.3210 - accuracy: 0.9859\n",
            "Epoch 128/150\n",
            "12/12 [==============================] - 0s 8ms/step - loss: 0.3015 - accuracy: 0.9802\n",
            "Epoch 129/150\n",
            "12/12 [==============================] - 0s 9ms/step - loss: 0.2794 - accuracy: 0.9831\n",
            "Epoch 130/150\n",
            "12/12 [==============================] - 0s 9ms/step - loss: 0.2668 - accuracy: 0.9859\n",
            "Epoch 131/150\n",
            "12/12 [==============================] - 0s 9ms/step - loss: 0.2730 - accuracy: 0.9887\n",
            "Epoch 132/150\n",
            "12/12 [==============================] - 0s 11ms/step - loss: 0.2636 - accuracy: 0.9831\n",
            "Epoch 133/150\n",
            "12/12 [==============================] - 0s 9ms/step - loss: 0.2511 - accuracy: 0.9831\n",
            "Epoch 134/150\n",
            "12/12 [==============================] - 0s 8ms/step - loss: 0.2501 - accuracy: 0.9887\n",
            "Epoch 135/150\n",
            "12/12 [==============================] - 0s 9ms/step - loss: 0.2409 - accuracy: 0.9831\n",
            "Epoch 136/150\n",
            "12/12 [==============================] - 0s 9ms/step - loss: 0.3352 - accuracy: 0.9576\n",
            "Epoch 137/150\n",
            "12/12 [==============================] - 0s 9ms/step - loss: 0.2893 - accuracy: 0.9689\n",
            "Epoch 138/150\n",
            "12/12 [==============================] - 0s 8ms/step - loss: 0.2480 - accuracy: 0.9802\n",
            "Epoch 139/150\n",
            "12/12 [==============================] - 0s 10ms/step - loss: 0.2318 - accuracy: 0.9802\n",
            "Epoch 140/150\n",
            "12/12 [==============================] - 0s 9ms/step - loss: 0.2193 - accuracy: 0.9859\n",
            "Epoch 141/150\n",
            "12/12 [==============================] - 0s 10ms/step - loss: 0.2084 - accuracy: 0.9831\n",
            "Epoch 142/150\n",
            "12/12 [==============================] - 0s 10ms/step - loss: 0.2022 - accuracy: 0.9831\n",
            "Epoch 143/150\n",
            "12/12 [==============================] - 0s 10ms/step - loss: 0.2027 - accuracy: 0.9831\n",
            "Epoch 144/150\n",
            "12/12 [==============================] - 0s 8ms/step - loss: 0.1958 - accuracy: 0.9887\n",
            "Epoch 145/150\n",
            "12/12 [==============================] - 0s 9ms/step - loss: 0.1878 - accuracy: 0.9859\n",
            "Epoch 146/150\n",
            "12/12 [==============================] - 0s 9ms/step - loss: 0.1861 - accuracy: 0.9887\n",
            "Epoch 147/150\n",
            "12/12 [==============================] - 0s 9ms/step - loss: 0.1860 - accuracy: 0.9915\n",
            "Epoch 148/150\n",
            "12/12 [==============================] - 0s 9ms/step - loss: 0.1788 - accuracy: 0.9887\n",
            "Epoch 149/150\n",
            "12/12 [==============================] - 0s 9ms/step - loss: 0.1736 - accuracy: 0.9887\n",
            "Epoch 150/150\n",
            "12/12 [==============================] - 0s 9ms/step - loss: 0.1689 - accuracy: 0.9887\n"
          ]
        }
      ]
    },
    {
      "cell_type": "code",
      "source": [
        "# save the model to file\n",
        "model.save('model1.h5')\n",
        "# save the mapping\n",
        "dump(mapping, open('mapping1.pkl', 'wb'))"
      ],
      "metadata": {
        "id": "M55vEu88khkq"
      },
      "execution_count": 55,
      "outputs": []
    },
    {
      "cell_type": "code",
      "source": [
        "# load the model\n",
        "model = load_model('model1.h5')\n",
        "# load the mapping\n",
        "mapping = load(open('mapping1.pkl', 'rb'))"
      ],
      "metadata": {
        "id": "NQA0cDxWkkCU"
      },
      "execution_count": 56,
      "outputs": []
    },
    {
      "cell_type": "code",
      "source": [
        "\n",
        "# test start of rhyme\n",
        "print(generate_seq(model, mapping, 10, 'The belfry tower', 20))\n",
        "# test mid-line\n",
        "print(generate_seq(model, mapping, 10, 'rose above the', 20))\n",
        "# test not in original\n",
        "print(generate_seq(model, mapping, 10, 'then a goat ', 20))"
      ],
      "metadata": {
        "id": "ifgexZEkkmD5",
        "outputId": "38079207-00cf-40fd-e97a-3084320c0f80",
        "colab": {
          "base_uri": "https://localhost:8080/"
        }
      },
      "execution_count": 58,
      "outputs": [
        {
          "output_type": "stream",
          "name": "stdout",
          "text": [
            "1/1 [==============================] - 0s 19ms/step\n",
            "1/1 [==============================] - 0s 20ms/step\n",
            "1/1 [==============================] - 0s 19ms/step\n",
            "1/1 [==============================] - 0s 18ms/step\n",
            "1/1 [==============================] - 0s 18ms/step\n",
            "1/1 [==============================] - 0s 18ms/step\n",
            "1/1 [==============================] - 0s 19ms/step\n",
            "1/1 [==============================] - 0s 19ms/step\n",
            "1/1 [==============================] - 0s 19ms/step\n",
            "1/1 [==============================] - 0s 27ms/step\n",
            "1/1 [==============================] - 0s 18ms/step\n",
            "1/1 [==============================] - 0s 17ms/step\n",
            "1/1 [==============================] - 0s 18ms/step\n",
            "1/1 [==============================] - 0s 19ms/step\n",
            "1/1 [==============================] - 0s 24ms/step\n",
            "1/1 [==============================] - 0s 18ms/step\n",
            "1/1 [==============================] - 0s 21ms/step\n",
            "1/1 [==============================] - 0s 20ms/step\n",
            "1/1 [==============================] - 0s 20ms/step\n",
            "1/1 [==============================] - 0s 18ms/step\n",
            "The belfry tower of the Old North Ch\n",
            "1/1 [==============================] - 0s 18ms/step\n",
            "1/1 [==============================] - 0s 18ms/step\n",
            "1/1 [==============================] - 0s 17ms/step\n",
            "1/1 [==============================] - 0s 17ms/step\n",
            "1/1 [==============================] - 0s 26ms/step\n",
            "1/1 [==============================] - 0s 18ms/step\n",
            "1/1 [==============================] - 0s 18ms/step\n",
            "1/1 [==============================] - 0s 20ms/step\n",
            "1/1 [==============================] - 0s 19ms/step\n",
            "1/1 [==============================] - 0s 21ms/step\n",
            "1/1 [==============================] - 0s 18ms/step\n",
            "1/1 [==============================] - 0s 21ms/step\n",
            "1/1 [==============================] - 0s 20ms/step\n",
            "1/1 [==============================] - 0s 18ms/step\n",
            "1/1 [==============================] - 0s 18ms/step\n",
            "1/1 [==============================] - 0s 19ms/step\n",
            "1/1 [==============================] - 0s 22ms/step\n",
            "1/1 [==============================] - 0s 18ms/step\n",
            "1/1 [==============================] - 0s 19ms/step\n",
            "1/1 [==============================] - 0s 21ms/step\n",
            "rose above the graves on the hill,\n",
            "1/1 [==============================] - 0s 18ms/step\n",
            "1/1 [==============================] - 0s 21ms/step\n",
            "1/1 [==============================] - 0s 19ms/step\n",
            "1/1 [==============================] - 0s 18ms/step\n",
            "1/1 [==============================] - 0s 20ms/step\n",
            "1/1 [==============================] - 0s 19ms/step\n",
            "1/1 [==============================] - 0s 19ms/step\n",
            "1/1 [==============================] - 0s 22ms/step\n",
            "1/1 [==============================] - 0s 22ms/step\n",
            "1/1 [==============================] - 0s 31ms/step\n",
            "1/1 [==============================] - 0s 19ms/step\n",
            "1/1 [==============================] - 0s 18ms/step\n",
            "1/1 [==============================] - 0s 19ms/step\n",
            "1/1 [==============================] - 0s 17ms/step\n",
            "1/1 [==============================] - 0s 20ms/step\n",
            "1/1 [==============================] - 0s 20ms/step\n",
            "1/1 [==============================] - 0s 24ms/step\n",
            "1/1 [==============================] - 0s 18ms/step\n",
            "1/1 [==============================] - 0s 21ms/step\n",
            "1/1 [==============================] - 0s 19ms/step\n",
            "then a goat  sfbdr,oLdthe allf  \n"
          ]
        }
      ]
    },
    {
      "cell_type": "markdown",
      "source": [
        "Summary: I used the poem Paul Revere's Ride for this model. As compared to the previous example, this poem had more distinct words. I increased the number of epochs for maximum accuracy. The higher the epochs, the closer the prediction was. \n",
        "\n",
        "For the result, as expected the first and second outputs were sentence similar to the actual poem and the last on was a scramble of words. "
      ],
      "metadata": {
        "id": "O7u-pJBCmdDk"
      }
    }
  ]
}